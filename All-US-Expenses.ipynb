{
 "cells": [
  {
   "cell_type": "code",
   "execution_count": null,
   "id": "b05d2558",
   "metadata": {},
   "outputs": [],
   "source": [
    "import pandas as pd\n",
    "from datetime import datetime\n",
    "import gspread\n",
    "import os"
   ]
  },
  {
   "cell_type": "code",
   "execution_count": null,
   "id": "11a234a7",
   "metadata": {},
   "outputs": [],
   "source": [
    "def is_notebook() -> bool:\n",
    "    try:\n",
    "        shell = get_ipython().__class__.__name__\n",
    "        if shell == 'ZMQInteractiveShell':\n",
    "            #print(\"Jupyter notebook or qtconsole\")\n",
    "            return True\n",
    "        elif shell == 'TerminalInteractiveShell':\n",
    "            #print(\"Terminal running IPython\")\n",
    "            return False\n",
    "        else:\n",
    "            return False\n",
    "    except NameError:\n",
    "        return False"
   ]
  },
  {
   "cell_type": "code",
   "execution_count": null,
   "id": "6bdceb1a",
   "metadata": {},
   "outputs": [],
   "source": [
    "CREDS_FILE = 'service_account.json'\n",
    "if is_notebook():\n",
    "    import IPython\n",
    "    HTML = IPython.display.HTML\n",
    "    creds_file_path = CREDS_FILE\n",
    "else:\n",
    "    creds_file_path = os.path.dirname(os.path.realpath(__file__)) + '/' +  CREDS_FILE"
   ]
  },
  {
   "cell_type": "code",
   "execution_count": null,
   "id": "e5a4daf0",
   "metadata": {},
   "outputs": [],
   "source": [
    "gc = gspread.service_account(filename=creds_file_path)\n",
    "sh = gc.open(str('transactions'))\n",
    "\n",
    "worksheet = sh.worksheet('raw')\n",
    "rdf = pd.DataFrame(worksheet.get_all_records())"
   ]
  },
  {
   "cell_type": "code",
   "execution_count": null,
   "id": "88e46b73",
   "metadata": {},
   "outputs": [],
   "source": [
    "report_sh = gc.open('Report')\n",
    "report_id = 'all'\n",
    "\n",
    "try:\n",
    "    report_worksheet = report_sh.add_worksheet(title=report_id, rows=200, cols=14)\n",
    "except:\n",
    "    report_worksheet = report_sh.worksheet(report_id)"
   ]
  },
  {
   "cell_type": "code",
   "execution_count": null,
   "id": "18378d80",
   "metadata": {},
   "outputs": [],
   "source": [
    "rdf['Date'] =  pd.DatetimeIndex(rdf.Date)\n",
    "#rdf = rdf.drop(columns=[\"Notes\", \"Description\", \"Original Description\", \"Labels\", \"Notes\"])"
   ]
  },
  {
   "cell_type": "code",
   "execution_count": null,
   "id": "49753b4b",
   "metadata": {},
   "outputs": [],
   "source": [
    "debits = rdf[rdf['Transaction Type'] == 'debit']"
   ]
  },
  {
   "cell_type": "code",
   "execution_count": null,
   "id": "cabd607f",
   "metadata": {},
   "outputs": [],
   "source": [
    "debits['Account Name'].unique()"
   ]
  },
  {
   "cell_type": "code",
   "execution_count": null,
   "id": "feb7cb5e",
   "metadata": {},
   "outputs": [],
   "source": [
    "accounts = [\n",
    "    'Credit (A)',\n",
    "    'Credit (U4)',\n",
    "    'Credit (U3)',\n",
    "    'Credit (U2)',\n",
    "    'Credit (U1)',\n",
    "    'Checking (C)',\n",
    "    'Checking (U)',\n",
    "    'Checking (E)',\n",
    "    'Savings (C)',\n",
    "    'Savings (U)',\n",
    "    'Savings (E)',\n",
    "    'Savings (A)',\n",
    "    'Cash',\n",
    "    'HSA (F)',\n",
    "]\n",
    "\n",
    "debits = debits[debits['Account Name'].isin(accounts)]"
   ]
  },
  {
   "cell_type": "code",
   "execution_count": null,
   "id": "63c1d0bb",
   "metadata": {},
   "outputs": [],
   "source": [
    "debits.Category.unique()\n"
   ]
  },
  {
   "cell_type": "code",
   "execution_count": null,
   "id": "b0274b56",
   "metadata": {},
   "outputs": [],
   "source": [
    "ignored = [\n",
    "    'Transfer',\n",
    "    'Investments',\n",
    "    'Buy',\n",
    "    'Investment Account',\n",
    "    'Buy',\n",
    "    'Credit Card Payment',\n",
    "    'Dividends & Cap Gains',\n",
    "    'Transfer to NRE',\n",
    "    'Allowance',\n",
    "    'Withdrawal',\n",
    "    'Option Exercise Cost'\n",
    "]"
   ]
  },
  {
   "cell_type": "code",
   "execution_count": null,
   "id": "a77f1b22",
   "metadata": {},
   "outputs": [],
   "source": [
    "df = debits[~debits.Category.isin(ignored)]\n",
    "ydf = df.groupby([df.Date.dt.to_period('Y'), \"Category\"])['Amount'].sum().reset_index(name='Amount').sort_values(by=['Date', 'Amount'], ascending=False)"
   ]
  },
  {
   "cell_type": "code",
   "execution_count": null,
   "id": "fa0dfbb2",
   "metadata": {},
   "outputs": [],
   "source": [
    "category_report = ydf.groupby([\"Category\"])['Amount'].sum().reset_index(name='Amount').sort_values(by=['Amount'], ascending=False)\n",
    "\n",
    "pv_table = pd.pivot_table(ydf, index = 'Category', columns = 'Date', values = 'Amount', fill_value=0, dropna=False)\n",
    "\n",
    "\n",
    "annual_monthly_report=category_report.merge(pv_table, on='Category')\n",
    "\n",
    "annual_monthly_report.loc['Total'] = annual_monthly_report.sum(numeric_only=True)\n",
    "annual_monthly_report = annual_monthly_report.fillna(value={\"Category\": \"Total\"}, limit=1).sort_values(by=['Amount'], ascending=False)\n",
    "\n",
    "columns = annual_monthly_report.columns.values.tolist()\n",
    "for idx, val in enumerate(columns):\n",
    "    if isinstance(val, pd.Period):\n",
    "        # pd.Period is not json serializable for writing to Google Sheets\n",
    "        columns[idx] = val.strftime('%Y')\n",
    "        \n",
    "report_worksheet.update( [columns] + annual_monthly_report.values.tolist())\n",
    "        "
   ]
  }
 ],
 "metadata": {
  "kernelspec": {
   "display_name": "Python 3 (ipykernel)",
   "language": "python",
   "name": "python3"
  },
  "language_info": {
   "codemirror_mode": {
    "name": "ipython",
    "version": 3
   },
   "file_extension": ".py",
   "mimetype": "text/x-python",
   "name": "python",
   "nbconvert_exporter": "python",
   "pygments_lexer": "ipython3",
   "version": "3.11.6"
  }
 },
 "nbformat": 4,
 "nbformat_minor": 5
}
