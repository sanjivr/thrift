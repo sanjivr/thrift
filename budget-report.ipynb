{
 "cells": [
  {
   "cell_type": "code",
   "execution_count": null,
   "id": "f0e6ab23",
   "metadata": {},
   "outputs": [],
   "source": [
    "import pandas as pd"
   ]
  },
  {
   "cell_type": "code",
   "execution_count": null,
   "id": "6019eeb4",
   "metadata": {},
   "outputs": [],
   "source": [
    "df = pd.read_excel('~/playground/Expenses/2022.xlsx', sheet_name=\"USD\")  \n",
    "df = df.drop(columns=[\"Notes\", \"Description\"])"
   ]
  },
  {
   "cell_type": "code",
   "execution_count": null,
   "id": "8e09bc61",
   "metadata": {},
   "outputs": [],
   "source": [
    "df = df[df[\"Transaction Type\"] == \"debit\"]"
   ]
  },
  {
   "cell_type": "code",
   "execution_count": null,
   "id": "8697e593",
   "metadata": {},
   "outputs": [],
   "source": [
    "df['Amount'].sum()"
   ]
  },
  {
   "cell_type": "code",
   "execution_count": null,
   "id": "b490986e",
   "metadata": {},
   "outputs": [],
   "source": [
    "df = df.assign(parsed=df['Category'].str.split('+')).explode('parsed')"
   ]
  },
  {
   "cell_type": "code",
   "execution_count": null,
   "id": "4387ba64",
   "metadata": {},
   "outputs": [],
   "source": [
    "df = df.drop(columns=\"Category\")"
   ]
  },
  {
   "cell_type": "code",
   "execution_count": null,
   "id": "b3f22bb1",
   "metadata": {},
   "outputs": [],
   "source": [
    "df"
   ]
  },
  {
   "cell_type": "code",
   "execution_count": null,
   "id": "afb18b0b",
   "metadata": {},
   "outputs": [],
   "source": [
    "def category(parsed):\n",
    "    return parsed.split('(').str[0].str.strip()"
   ]
  },
  {
   "cell_type": "code",
   "execution_count": null,
   "id": "d8b0a291",
   "metadata": {},
   "outputs": [],
   "source": [
    "def amount(parsed):\n",
    "    return parsed.split('(').str[1]"
   ]
  },
  {
   "cell_type": "code",
   "execution_count": null,
   "id": "a68771b8",
   "metadata": {},
   "outputs": [],
   "source": [
    "df = df.assign(Category=lambda x: category(x.parsed.str))"
   ]
  },
  {
   "cell_type": "code",
   "execution_count": null,
   "id": "88e1fac7",
   "metadata": {},
   "outputs": [],
   "source": [
    "df = df.assign(RAmount=lambda x: amount(x.parsed.str))"
   ]
  },
  {
   "cell_type": "code",
   "execution_count": null,
   "id": "e39f5dbc",
   "metadata": {},
   "outputs": [],
   "source": [
    "df['RAmount'] = df['RAmount'].str.split(')').str[0].astype('float')"
   ]
  },
  {
   "cell_type": "code",
   "execution_count": null,
   "id": "e92a6624",
   "metadata": {},
   "outputs": [],
   "source": [
    "df['RAmount'].fillna(df['Amount'], inplace=True)"
   ]
  },
  {
   "cell_type": "code",
   "execution_count": null,
   "id": "eba8f75e",
   "metadata": {},
   "outputs": [],
   "source": [
    "df = df.drop(columns='parsed')"
   ]
  },
  {
   "cell_type": "code",
   "execution_count": null,
   "id": "c601ec2b",
   "metadata": {},
   "outputs": [],
   "source": [
    "df['Date'] =  pd.DatetimeIndex(df.Date)"
   ]
  },
  {
   "cell_type": "code",
   "execution_count": null,
   "id": "8a9937d2",
   "metadata": {},
   "outputs": [],
   "source": [
    "monthly_report = df.groupby([df.Date.dt.to_period('M'), \"Category\"])['RAmount'].sum().reset_index(name='Amount').sort_values(by=['Date', 'Amount'], ascending=False)\n",
    "monthly_report['Amount'].sum()"
   ]
  },
  {
   "cell_type": "code",
   "execution_count": null,
   "id": "708125c1",
   "metadata": {},
   "outputs": [],
   "source": [
    "pv_table = pd.pivot_table(monthly_report, index = 'Category', columns = 'Date', values = 'Amount')\n",
    "fig = pv_table.plot(kind = 'bar', figsize=(20,10),  yticks=(100, 250, 500, 1000, 1500, 2000, 2500, 5000))"
   ]
  },
  {
   "cell_type": "code",
   "execution_count": null,
   "id": "a34c6d04",
   "metadata": {},
   "outputs": [],
   "source": [
    "#fig.get_figure().savefig(\"monthly_category_report.png\", format=\"png\")"
   ]
  },
  {
   "cell_type": "code",
   "execution_count": null,
   "id": "ae00423c",
   "metadata": {},
   "outputs": [],
   "source": [
    "category_report = df.groupby([\"Category\"])['RAmount'].sum().reset_index(name='Amount').sort_values(by=['Amount'], ascending=False)\n",
    "with pd.option_context(\"display.max_rows\", 1000):\n",
    "    print(category_report)"
   ]
  },
  {
   "cell_type": "code",
   "execution_count": null,
   "id": "d3e45d87",
   "metadata": {},
   "outputs": [],
   "source": [
    "category_report.plot.bar(x='Category', y='Amount', figsize=(20,10),  yticks=(100, 250, 500, 1000, 1500, 2000, 2500, 5000))"
   ]
  },
  {
   "cell_type": "code",
   "execution_count": null,
   "id": "3519937c",
   "metadata": {},
   "outputs": [],
   "source": [
    "category_report['Amount'].sum()"
   ]
  }
 ],
 "metadata": {
  "kernelspec": {
   "display_name": "Python 3 (ipykernel)",
   "language": "python",
   "name": "python3"
  },
  "language_info": {
   "codemirror_mode": {
    "name": "ipython",
    "version": 3
   },
   "file_extension": ".py",
   "mimetype": "text/x-python",
   "name": "python",
   "nbconvert_exporter": "python",
   "pygments_lexer": "ipython3",
   "version": "3.10.5"
  }
 },
 "nbformat": 4,
 "nbformat_minor": 5
}
