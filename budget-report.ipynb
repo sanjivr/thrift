{
 "cells": [
  {
   "cell_type": "code",
   "execution_count": null,
   "id": "ef60d53f",
   "metadata": {},
   "outputs": [],
   "source": [
    "import pandas as pd\n",
    "from datetime import datetime\n",
    "import gspread\n",
    "import os"
   ]
  },
  {
   "cell_type": "code",
   "execution_count": null,
   "id": "843be682",
   "metadata": {},
   "outputs": [],
   "source": [
    "def is_notebook() -> bool:\n",
    "    try:\n",
    "        shell = get_ipython().__class__.__name__\n",
    "        if shell == 'ZMQInteractiveShell':\n",
    "            #print(\"Jupyter notebook or qtconsole\")\n",
    "            return True\n",
    "        elif shell == 'TerminalInteractiveShell':\n",
    "            #print(\"Terminal running IPython\")\n",
    "            return False\n",
    "        else:\n",
    "            #print(\"Other type (?)\")\n",
    "            return False\n",
    "    except NameError:\n",
    "        #print(\"Probably standard\")\n",
    "        return False\n",
    "    "
   ]
  },
  {
   "cell_type": "code",
   "execution_count": null,
   "id": "d18b8dae",
   "metadata": {},
   "outputs": [],
   "source": [
    "CREDS_FILE = 'service_account.json'\n",
    "if is_notebook():\n",
    "    import IPython\n",
    "    HTML = IPython.display.HTML\n",
    "    creds_file_path = CREDS_FILE\n",
    "else:\n",
    "    creds_file_path = os.path.dirname(os.path.realpath(__file__)) + '/' +  CREDS_FILE"
   ]
  },
  {
   "cell_type": "code",
   "execution_count": null,
   "id": "291b994f",
   "metadata": {},
   "outputs": [],
   "source": [
    "gc = gspread.service_account(filename=creds_file_path)\n",
    "\n",
    "years = []\n",
    "years.append(datetime.now().year)\n",
    "#years.append(2022)\n",
    "\n",
    "rdfs = []\n",
    "for year in years:\n",
    "    sh = gc.open(str(year))\n",
    "    worksheet = sh.worksheet('USD')\n",
    "    report_sh = gc.open('Report')\n",
    "    report_id = str(year)\n",
    "    try:\n",
    "        report_worksheet = report_sh.add_worksheet(title=report_id, rows=200, cols=14)\n",
    "    except:\n",
    "        report_worksheet = report_sh.worksheet(report_id)\n",
    "    rdfs.append(pd.DataFrame(worksheet.get_all_records()))\n",
    "    #rdfs.append(pd.read_excel(f'~/playground/Expenses/{year}.xlsx', sheet_name=\"USD\"))\n",
    "\n"
   ]
  },
  {
   "cell_type": "code",
   "execution_count": null,
   "id": "8032e270",
   "metadata": {},
   "outputs": [],
   "source": [
    "rdf = pd.concat(rdfs)\n",
    "\n",
    "rdf[\"Merchant\"] = rdf[\"Merchant\"].str.strip()\n",
    "rdf['Date'] =  pd.DatetimeIndex(rdf.Date)\n",
    "rdf = rdf.drop(columns=[\"Notes\", \"Description\"])"
   ]
  },
  {
   "cell_type": "code",
   "execution_count": null,
   "id": "4f8800f8",
   "metadata": {},
   "outputs": [],
   "source": [
    "credits = rdf[(rdf[\"Transaction Type\"] == \"credit\") & (rdf[\"Category\"] != \"Salary\")]\n",
    "credits = credits.assign(Amount=lambda x: x.Amount * -1)\n",
    "credits['Amount'].sum()"
   ]
  },
  {
   "cell_type": "code",
   "execution_count": null,
   "id": "669972ba",
   "metadata": {},
   "outputs": [],
   "source": [
    "debits = rdf[rdf[\"Transaction Type\"] == \"debit\"]\n",
    "debits['Amount'].sum()"
   ]
  },
  {
   "cell_type": "code",
   "execution_count": null,
   "id": "b490986e",
   "metadata": {},
   "outputs": [],
   "source": [
    "df = pd.concat([debits, credits])\n",
    "df = df.assign(parsed=df['Category'].str.split('+')).explode('parsed')\n",
    "df = df.drop(columns=\"Category\")\n",
    "#df"
   ]
  },
  {
   "cell_type": "code",
   "execution_count": null,
   "id": "afb18b0b",
   "metadata": {},
   "outputs": [],
   "source": [
    "def category(parsed):\n",
    "    return parsed.split('(').str[0].str.strip()"
   ]
  },
  {
   "cell_type": "code",
   "execution_count": null,
   "id": "d8b0a291",
   "metadata": {},
   "outputs": [],
   "source": [
    "def amount(parsed):\n",
    "    return parsed.split('(').str[1]"
   ]
  },
  {
   "cell_type": "code",
   "execution_count": null,
   "id": "a68771b8",
   "metadata": {},
   "outputs": [],
   "source": [
    "df = df.assign(Category=lambda x: category(x.parsed.str))\n",
    "df = df.assign(RAmount=lambda x: amount(x.parsed.str))\n",
    "\n",
    "df['RAmount'] = df['RAmount'].str.split(')').str[0].astype('float')\n",
    "df.fillna({'RAmount': df['Amount']}, inplace=True)\n",
    "df = df.drop(columns='parsed')"
   ]
  },
  {
   "cell_type": "code",
   "execution_count": null,
   "id": "be6b73ff-5767-402a-b998-e620749e7e90",
   "metadata": {},
   "outputs": [],
   "source": [
    "tax_categories = [\n",
    "    'Federal Tax',\n",
    "    'State Tax'\n",
    "]\n",
    "df = df[~df.Category.isin(tax_categories)]"
   ]
  },
  {
   "cell_type": "code",
   "execution_count": null,
   "id": "8a9937d2",
   "metadata": {},
   "outputs": [],
   "source": [
    "monthly_report = df.groupby([df.Date.dt.to_period('M'), \"Category\"])['RAmount'].sum().reset_index(name='Amount').sort_values(by=['Date', 'Amount'], ascending=False)\n",
    "monthly_report['Amount'].sum()\n",
    "#monthly_report"
   ]
  },
  {
   "cell_type": "code",
   "execution_count": null,
   "id": "708125c1",
   "metadata": {},
   "outputs": [],
   "source": [
    "pv_table = pd.pivot_table(monthly_report, index = 'Category', columns = 'Date', values = 'Amount', fill_value=0, dropna=False)\n",
    "#fig = pv_table.plot(kind = 'bar', figsize=(20,10),  yticks=(100, 250, 500, 1000, 1500, 2000, 2500, 5000))"
   ]
  },
  {
   "cell_type": "code",
   "execution_count": null,
   "id": "a34c6d04",
   "metadata": {},
   "outputs": [],
   "source": [
    "#fig.get_figure().savefig(\"monthly_category_report.png\", format=\"png\")"
   ]
  },
  {
   "cell_type": "code",
   "execution_count": null,
   "id": "ae00423c",
   "metadata": {},
   "outputs": [],
   "source": [
    "category_report = df.groupby([\"Category\"])['RAmount'].sum().reset_index(name='Amount').sort_values(by=['Amount'], ascending=False)\n",
    "#with pd.option_context(\"display.max_rows\", 1000):\n",
    "#    display(HTML(category_report.to_html(index=False, header=True)))"
   ]
  },
  {
   "cell_type": "code",
   "execution_count": null,
   "id": "b81c3026",
   "metadata": {},
   "outputs": [],
   "source": [
    "annual_monthly_report=category_report.merge(pv_table, on='Category')\n",
    "\n",
    "annual_monthly_report.loc['Total'] = annual_monthly_report.sum(numeric_only=True)\n",
    "annual_monthly_report = annual_monthly_report.fillna(value={\"Category\": \"Total\"}, limit=1).sort_values(by=['Amount'], ascending=False)\n",
    "\n",
    "columns = annual_monthly_report.columns.values.tolist()\n",
    "for idx, val in enumerate(columns):\n",
    "    if isinstance(val, pd.Period):\n",
    "        # pd.Period is not json serializable for writing to Google Sheets\n",
    "        columns[idx] = val.strftime('%B')\n",
    "        \n",
    "report_worksheet.update( [columns] + annual_monthly_report.values.tolist())\n",
    "if is_notebook():\n",
    "    with pd.option_context(\"display.max_rows\", 1000):   \n",
    "        display(HTML(annual_monthly_report.to_html(index=False, header=True)))"
   ]
  },
  {
   "cell_type": "code",
   "execution_count": null,
   "id": "d3e45d87",
   "metadata": {},
   "outputs": [],
   "source": [
    "# Bar Chart of Annual Category Report\n",
    "#category_report.plot.bar(x='Category', y='Amount', figsize=(20,10),  yticks=(100, 250, 500, 1000, 1500, 2000, 2500, 5000))"
   ]
  },
  {
   "cell_type": "code",
   "execution_count": null,
   "id": "3519937c",
   "metadata": {},
   "outputs": [],
   "source": [
    "category_report['Amount'].sum()"
   ]
  },
  {
   "cell_type": "code",
   "execution_count": null,
   "id": "0a6c11b8",
   "metadata": {},
   "outputs": [],
   "source": [
    "merchant_report = df.groupby([\"Merchant\"])['RAmount'].sum().reset_index(name='Amount').sort_values(by=['Amount'], ascending=False)\n",
    "#with pd.option_context(\"display.max_rows\", 1000):\n",
    "#    display(HTML(merchant_report.to_html(index=False, header=True)))"
   ]
  },
  {
   "cell_type": "code",
   "execution_count": null,
   "id": "2a4e0431",
   "metadata": {},
   "outputs": [],
   "source": [
    "monthly_merchant_report = df.groupby([df.Date.dt.to_period('M'), \"Merchant\"])['RAmount'].sum().reset_index(name='Amount').sort_values(by=['Date', 'Amount'], ascending=False)\n",
    "#monthly_report"
   ]
  },
  {
   "cell_type": "code",
   "execution_count": null,
   "id": "8690a679",
   "metadata": {},
   "outputs": [],
   "source": [
    "pv_merchant_table = pd.pivot_table(monthly_merchant_report, index = 'Merchant', columns = 'Date', values = 'Amount', fill_value=0, dropna=False)\n",
    "#fig = pv_merchant_table.plot(kind = 'bar', figsize=(20,10),  yticks=(100, 250, 500, 1000, 1500, 2000, 2500, 5000))"
   ]
  },
  {
   "cell_type": "code",
   "execution_count": null,
   "id": "1f18381a",
   "metadata": {},
   "outputs": [],
   "source": [
    "annual_monthly_merchant_report=merchant_report.merge(pv_merchant_table, on='Merchant')\n",
    "annual_monthly_merchant_report.loc['Total'] = annual_monthly_merchant_report.sum(numeric_only=True)\n",
    "annual_monthly_merchant_report = annual_monthly_merchant_report.fillna(value={\"Merchant\": \"All\"}, limit=1)\n",
    "\n",
    "\n",
    "with pd.option_context(\"display.max_rows\", 1000):\n",
    "#    display(HTML(annual_monthly_merchant_report\n",
    "#                .sort_values(by=['Amount'], ascending=False)\n",
    "#                 .to_html(index=False, header=True)))\n",
    "    pass\n"
   ]
  }
 ],
 "metadata": {
  "kernelspec": {
   "display_name": "Python 3 (ipykernel)",
   "language": "python",
   "name": "python3"
  },
  "language_info": {
   "codemirror_mode": {
    "name": "ipython",
    "version": 3
   },
   "file_extension": ".py",
   "mimetype": "text/x-python",
   "name": "python",
   "nbconvert_exporter": "python",
   "pygments_lexer": "ipython3",
   "version": "3.12.3"
  }
 },
 "nbformat": 4,
 "nbformat_minor": 5
}
