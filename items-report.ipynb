{
 "cells": [
  {
   "cell_type": "code",
   "execution_count": null,
   "id": "6019eeb4",
   "metadata": {},
   "outputs": [],
   "source": [
    "import pandas as pd\n",
    "from datetime import datetime\n",
    "\n",
    "import IPython\n",
    "HTML = IPython.display.HTML\n",
    "\n",
    "import re\n",
    "import gspread"
   ]
  },
  {
   "cell_type": "code",
   "execution_count": null,
   "id": "9ca7d29b",
   "metadata": {},
   "outputs": [],
   "source": [
    "gc = gspread.service_account(filename='service_account.json')\n",
    "\n",
    "years = []\n",
    "years.append(datetime.now().year)\n",
    "#years.append(2022)\n",
    "\n",
    "rdfs = []\n",
    "for year in years:\n",
    "    sh = gc.open(str(year))\n",
    "    worksheet = sh.worksheet('USD')\n",
    "    rdfs.append(pd.DataFrame(worksheet.get_all_records()))\n",
    "    #rdfs.append(pd.read_excel(f'~/playground/Expenses/{year}.xlsx', sheet_name=\"USD\"))"
   ]
  },
  {
   "cell_type": "code",
   "execution_count": null,
   "id": "8ab32f87",
   "metadata": {},
   "outputs": [],
   "source": [
    "rdf = pd.concat(rdfs)\n",
    "\n",
    "rdf[\"Merchant\"] = rdf[\"Merchant\"].str.strip()\n",
    "rdf[\"Description\"] = rdf[\"Description\"].str.strip()\n",
    "rdf['Date'] =  pd.DatetimeIndex(rdf.Date)\n",
    "rdf = rdf.drop(columns=[\"Notes\"])"
   ]
  },
  {
   "cell_type": "code",
   "execution_count": null,
   "id": "4f8800f8",
   "metadata": {},
   "outputs": [],
   "source": [
    "credits = rdf[(rdf[\"Transaction Type\"] == \"credit\") & (rdf[\"Category\"] != \"Salary\")]\n",
    "credits = credits.assign(Amount=lambda x: x.Amount * -1)\n",
    "credits['Amount'].sum()"
   ]
  },
  {
   "cell_type": "code",
   "execution_count": null,
   "id": "669972ba",
   "metadata": {},
   "outputs": [],
   "source": [
    "debits = rdf[rdf[\"Transaction Type\"] == \"debit\"]\n",
    "debits['Amount'].sum()"
   ]
  },
  {
   "cell_type": "code",
   "execution_count": null,
   "id": "0076ec33",
   "metadata": {},
   "outputs": [],
   "source": [
    "ITEMS_REGEX = r\"((?P<item>([a-zA-Z0-9\\–\\'\\-\\’]+\\s*)+)(\\((?P<expr>[0-9.+* ]*)\\))?)+\"\n",
    "\n",
    "def eval_expr(expr):\n",
    "    if expr is None:\n",
    "        return expr\n",
    "    try: \n",
    "        return float(expr)\n",
    "    except (TypeError, ValueError):\n",
    "        try:\n",
    "            return eval(expr)\n",
    "        except (TypeError, ValueError):\n",
    "            print(expr)\n",
    "            return expr\n",
    "\n",
    "def items(description): # why doesn't this get each row as input ?\n",
    "    items = []\n",
    "    for desc in description:\n",
    "        item = []\n",
    "        for m in re.finditer(ITEMS_REGEX, desc):\n",
    "            item.append((m['item'].strip(), eval_expr(m['expr'])))\n",
    "        items.append(item)\n",
    "    return items\n",
    "\n",
    "def item_cost(item):\n",
    "    return item[1]\n",
    "\n",
    "def item_name(item):\n",
    "    return item[0]"
   ]
  },
  {
   "cell_type": "code",
   "execution_count": null,
   "id": "c4eeef9b",
   "metadata": {},
   "outputs": [],
   "source": [
    "debits = debits.assign(Items=debits['Description'])\n",
    "debits['Items'].fillna(debits['Category'], inplace=True)\n",
    "debits = debits.drop(columns=['Description', 'Account Name', 'Category'])"
   ]
  },
  {
   "cell_type": "code",
   "execution_count": null,
   "id": "5cf2fcd0",
   "metadata": {},
   "outputs": [],
   "source": [
    "debits = debits.assign(Item=items(debits.Items)).explode('Item')\n",
    "debits = debits.assign(ItemCost = lambda x: item_cost(x.Item.str), ItemName = lambda y: item_name(y.Item.str))\n",
    "debits['ItemCost'].fillna(debits['Amount'], inplace=True)\n",
    "debits = debits.drop(columns=['Amount', 'Items', 'Item'])\n",
    "\n",
    "# with pd.option_context(\"display.max_rows\", 1000):\n",
    "#    display(HTML(debits.to_html(index=False, header=True)))"
   ]
  },
  {
   "cell_type": "code",
   "execution_count": null,
   "id": "b490986e",
   "metadata": {},
   "outputs": [],
   "source": [
    "df = debits"
   ]
  },
  {
   "cell_type": "code",
   "execution_count": null,
   "id": "8a9937d2",
   "metadata": {},
   "outputs": [],
   "source": [
    "monthly_report = df.groupby([df.Date.dt.to_period('M'), \"ItemName\"])['ItemCost'].sum().reset_index(name='ItemCost').sort_values(by=['Date', 'ItemCost'], ascending=False)\n",
    "pv_table = pd.pivot_table(monthly_report, index = 'ItemName', columns = 'Date', values = 'ItemCost', fill_value=0, dropna=False)\n",
    "item_report = df.groupby([\"ItemName\"])['ItemCost'].sum().reset_index(name='ItemCost').sort_values(by=['ItemCost'], ascending=False)\n",
    "annual_item_report=item_report.merge(pv_table, on='ItemName').sort_values(by=['ItemCost'], ascending=False)"
   ]
  },
  {
   "cell_type": "code",
   "execution_count": null,
   "id": "0dd3e788",
   "metadata": {},
   "outputs": [],
   "source": [
    "with pd.option_context(\"display.max_rows\", 2000):\n",
    "    display(HTML(annual_item_report.to_html(index=False, header=True)))"
   ]
  },
  {
   "cell_type": "code",
   "execution_count": null,
   "id": "708125c1",
   "metadata": {},
   "outputs": [],
   "source": [
    "print(debits.ItemCost.sum(), monthly_report.ItemCost.sum())"
   ]
  }
 ],
 "metadata": {
  "kernelspec": {
   "display_name": "Python 3 (ipykernel)",
   "language": "python",
   "name": "python3"
  },
  "language_info": {
   "codemirror_mode": {
    "name": "ipython",
    "version": 3
   },
   "file_extension": ".py",
   "mimetype": "text/x-python",
   "name": "python",
   "nbconvert_exporter": "python",
   "pygments_lexer": "ipython3",
   "version": "3.10.10"
  }
 },
 "nbformat": 4,
 "nbformat_minor": 5
}
